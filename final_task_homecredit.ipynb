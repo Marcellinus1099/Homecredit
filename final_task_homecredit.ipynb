{
 "cells": [
  {
   "cell_type": "code",
   "execution_count": 23,
   "metadata": {},
   "outputs": [],
   "source": [
    "import pandas as pd\n",
    "import numpy  as np\n",
    "import matplotlib.pyplot as plt\n",
    "import seaborn as sns\n",
    "from scipy import stats\n",
    "\n",
    "import warnings\n",
    "warnings.filterwarnings('ignore')"
   ]
  },
  {
   "cell_type": "code",
   "execution_count": 24,
   "metadata": {},
   "outputs": [],
   "source": [
    "app_train = pd.read_csv('application_train.csv')\n",
    "app_test = pd.read_csv('application_test.csv')\n",
    "\n",
    "bureau_balance = pd.read_csv('bureau_balance.csv')\n",
    "bureau = pd.read_csv('bureau.csv')\n",
    "credit_card_balance = pd.read_csv('credit_card_balance.csv')\n",
    "installments = pd.read_csv('installments_payments.csv')\n",
    "pos_cash = pd.read_csv('POS_CASH_balance.csv')\n"
   ]
  },
  {
   "cell_type": "code",
   "execution_count": 25,
   "metadata": {},
   "outputs": [],
   "source": [
    "#group by bureau balance \n",
    "bureau_balance_agg=bureau_balance.groupby(['SK_ID_BUREAU']).agg({\n",
    "    'MONTHS_BALANCE' : 'mean',\n",
    "    'STATUS' : 'first'}).reset_index()"
   ]
  },
  {
   "cell_type": "code",
   "execution_count": 26,
   "metadata": {},
   "outputs": [
    {
     "data": {
      "text/plain": [
       "STATUS\n",
       "1    809934\n",
       "0      7461\n",
       "Name: count, dtype: int64"
      ]
     },
     "execution_count": 26,
     "metadata": {},
     "output_type": "execute_result"
    }
   ],
   "source": [
    "#divide status in bureau_balance to 0 and 1 \n",
    "map_status = {'C' :1,\n",
    "              'X' :1,\n",
    "              '0' :1,\n",
    "              '1' :0,\n",
    "              '2' :0,\n",
    "              '3' :0,\n",
    "              '4' :0,\n",
    "              '5' :0}\n",
    "bureau_balance_agg['STATUS'] = bureau_balance_agg['STATUS'].map(map_status)\n",
    "bureau_balance_agg['STATUS'].value_counts()\n"
   ]
  },
  {
   "cell_type": "code",
   "execution_count": 27,
   "metadata": {},
   "outputs": [
    {
     "data": {
      "text/html": [
       "<div>\n",
       "<style scoped>\n",
       "    .dataframe tbody tr th:only-of-type {\n",
       "        vertical-align: middle;\n",
       "    }\n",
       "\n",
       "    .dataframe tbody tr th {\n",
       "        vertical-align: top;\n",
       "    }\n",
       "\n",
       "    .dataframe thead th {\n",
       "        text-align: right;\n",
       "    }\n",
       "</style>\n",
       "<table border=\"1\" class=\"dataframe\">\n",
       "  <thead>\n",
       "    <tr style=\"text-align: right;\">\n",
       "      <th></th>\n",
       "      <th>SK_ID_CURR</th>\n",
       "      <th>SK_ID_BUREAU</th>\n",
       "      <th>CREDIT_ACTIVE</th>\n",
       "      <th>CREDIT_CURRENCY</th>\n",
       "      <th>DAYS_CREDIT</th>\n",
       "      <th>CREDIT_DAY_OVERDUE</th>\n",
       "      <th>DAYS_CREDIT_ENDDATE</th>\n",
       "      <th>DAYS_ENDDATE_FACT</th>\n",
       "      <th>AMT_CREDIT_MAX_OVERDUE</th>\n",
       "      <th>CNT_CREDIT_PROLONG</th>\n",
       "      <th>AMT_CREDIT_SUM</th>\n",
       "      <th>AMT_CREDIT_SUM_DEBT</th>\n",
       "      <th>AMT_CREDIT_SUM_LIMIT</th>\n",
       "      <th>AMT_CREDIT_SUM_OVERDUE</th>\n",
       "      <th>CREDIT_TYPE</th>\n",
       "      <th>DAYS_CREDIT_UPDATE</th>\n",
       "      <th>AMT_ANNUITY</th>\n",
       "      <th>MONTHS_BALANCE</th>\n",
       "      <th>STATUS</th>\n",
       "    </tr>\n",
       "  </thead>\n",
       "  <tbody>\n",
       "    <tr>\n",
       "      <th>0</th>\n",
       "      <td>100001</td>\n",
       "      <td>5896630</td>\n",
       "      <td>Active</td>\n",
       "      <td>currency 1</td>\n",
       "      <td>-857.0</td>\n",
       "      <td>0.0</td>\n",
       "      <td>-179.0</td>\n",
       "      <td>-715.0</td>\n",
       "      <td>NaN</td>\n",
       "      <td>0.0</td>\n",
       "      <td>168345.0</td>\n",
       "      <td>0.00</td>\n",
       "      <td>0.0</td>\n",
       "      <td>0.0</td>\n",
       "      <td>Consumer credit</td>\n",
       "      <td>-155.0</td>\n",
       "      <td>0.0</td>\n",
       "      <td>-14.00</td>\n",
       "      <td>1</td>\n",
       "    </tr>\n",
       "    <tr>\n",
       "      <th>1</th>\n",
       "      <td>100002</td>\n",
       "      <td>6158904</td>\n",
       "      <td>Closed</td>\n",
       "      <td>currency 1</td>\n",
       "      <td>-1042.5</td>\n",
       "      <td>0.0</td>\n",
       "      <td>-424.5</td>\n",
       "      <td>-939.0</td>\n",
       "      <td>40.5</td>\n",
       "      <td>0.0</td>\n",
       "      <td>54130.5</td>\n",
       "      <td>0.00</td>\n",
       "      <td>0.0</td>\n",
       "      <td>0.0</td>\n",
       "      <td>Credit card</td>\n",
       "      <td>-402.5</td>\n",
       "      <td>0.0</td>\n",
       "      <td>-26.00</td>\n",
       "      <td>1</td>\n",
       "    </tr>\n",
       "    <tr>\n",
       "      <th>2</th>\n",
       "      <td>100005</td>\n",
       "      <td>6735200</td>\n",
       "      <td>Active</td>\n",
       "      <td>currency 1</td>\n",
       "      <td>-137.0</td>\n",
       "      <td>0.0</td>\n",
       "      <td>122.0</td>\n",
       "      <td>-123.0</td>\n",
       "      <td>0.0</td>\n",
       "      <td>0.0</td>\n",
       "      <td>58500.0</td>\n",
       "      <td>25321.50</td>\n",
       "      <td>0.0</td>\n",
       "      <td>0.0</td>\n",
       "      <td>Consumer credit</td>\n",
       "      <td>-31.0</td>\n",
       "      <td>0.0</td>\n",
       "      <td>-2.00</td>\n",
       "      <td>1</td>\n",
       "    </tr>\n",
       "    <tr>\n",
       "      <th>3</th>\n",
       "      <td>100010</td>\n",
       "      <td>5576630</td>\n",
       "      <td>Closed</td>\n",
       "      <td>currency 1</td>\n",
       "      <td>-1939.5</td>\n",
       "      <td>0.0</td>\n",
       "      <td>-119.5</td>\n",
       "      <td>-1138.0</td>\n",
       "      <td>NaN</td>\n",
       "      <td>0.0</td>\n",
       "      <td>495000.0</td>\n",
       "      <td>174003.75</td>\n",
       "      <td>0.0</td>\n",
       "      <td>0.0</td>\n",
       "      <td>Loan for business development</td>\n",
       "      <td>-578.0</td>\n",
       "      <td>NaN</td>\n",
       "      <td>-46.00</td>\n",
       "      <td>1</td>\n",
       "    </tr>\n",
       "    <tr>\n",
       "      <th>4</th>\n",
       "      <td>100013</td>\n",
       "      <td>5922083</td>\n",
       "      <td>Closed</td>\n",
       "      <td>currency 1</td>\n",
       "      <td>-1835.0</td>\n",
       "      <td>0.0</td>\n",
       "      <td>-999.0</td>\n",
       "      <td>-1168.0</td>\n",
       "      <td>19305.0</td>\n",
       "      <td>0.0</td>\n",
       "      <td>391770.0</td>\n",
       "      <td>0.00</td>\n",
       "      <td>NaN</td>\n",
       "      <td>0.0</td>\n",
       "      <td>Car loan</td>\n",
       "      <td>-882.0</td>\n",
       "      <td>0.0</td>\n",
       "      <td>-29.75</td>\n",
       "      <td>1</td>\n",
       "    </tr>\n",
       "  </tbody>\n",
       "</table>\n",
       "</div>"
      ],
      "text/plain": [
       "   SK_ID_CURR  SK_ID_BUREAU CREDIT_ACTIVE CREDIT_CURRENCY  DAYS_CREDIT  \\\n",
       "0      100001       5896630        Active      currency 1       -857.0   \n",
       "1      100002       6158904        Closed      currency 1      -1042.5   \n",
       "2      100005       6735200        Active      currency 1       -137.0   \n",
       "3      100010       5576630        Closed      currency 1      -1939.5   \n",
       "4      100013       5922083        Closed      currency 1      -1835.0   \n",
       "\n",
       "   CREDIT_DAY_OVERDUE  DAYS_CREDIT_ENDDATE  DAYS_ENDDATE_FACT  \\\n",
       "0                 0.0               -179.0             -715.0   \n",
       "1                 0.0               -424.5             -939.0   \n",
       "2                 0.0                122.0             -123.0   \n",
       "3                 0.0               -119.5            -1138.0   \n",
       "4                 0.0               -999.0            -1168.0   \n",
       "\n",
       "   AMT_CREDIT_MAX_OVERDUE  CNT_CREDIT_PROLONG  AMT_CREDIT_SUM  \\\n",
       "0                     NaN                 0.0        168345.0   \n",
       "1                    40.5                 0.0         54130.5   \n",
       "2                     0.0                 0.0         58500.0   \n",
       "3                     NaN                 0.0        495000.0   \n",
       "4                 19305.0                 0.0        391770.0   \n",
       "\n",
       "   AMT_CREDIT_SUM_DEBT  AMT_CREDIT_SUM_LIMIT  AMT_CREDIT_SUM_OVERDUE  \\\n",
       "0                 0.00                   0.0                     0.0   \n",
       "1                 0.00                   0.0                     0.0   \n",
       "2             25321.50                   0.0                     0.0   \n",
       "3            174003.75                   0.0                     0.0   \n",
       "4                 0.00                   NaN                     0.0   \n",
       "\n",
       "                     CREDIT_TYPE  DAYS_CREDIT_UPDATE  AMT_ANNUITY  \\\n",
       "0                Consumer credit              -155.0          0.0   \n",
       "1                    Credit card              -402.5          0.0   \n",
       "2                Consumer credit               -31.0          0.0   \n",
       "3  Loan for business development              -578.0          NaN   \n",
       "4                       Car loan              -882.0          0.0   \n",
       "\n",
       "   MONTHS_BALANCE  STATUS  \n",
       "0          -14.00       1  \n",
       "1          -26.00       1  \n",
       "2           -2.00       1  \n",
       "3          -46.00       1  \n",
       "4          -29.75       1  "
      ]
     },
     "execution_count": 27,
     "metadata": {},
     "output_type": "execute_result"
    }
   ],
   "source": [
    "#merge bureau with bureau balance \n",
    "df_bureau = bureau.merge(bureau_balance_agg,how='inner',on=['SK_ID_BUREAU'])\n",
    "df_bureau.head()\n",
    "\n",
    "df_bureau_agg=df_bureau.groupby(['SK_ID_CURR']).agg({\n",
    "    'SK_ID_BUREAU' : 'first',\n",
    "    'CREDIT_ACTIVE': 'last',\n",
    "    'CREDIT_CURRENCY' : 'last',\n",
    "    'DAYS_CREDIT' : 'median',\n",
    "    'CREDIT_DAY_OVERDUE' : 'median',\n",
    "    'DAYS_CREDIT_ENDDATE' : 'median',\n",
    "    'DAYS_ENDDATE_FACT' : 'median',\n",
    "    'AMT_CREDIT_MAX_OVERDUE' :'median',\n",
    "    'CNT_CREDIT_PROLONG' : 'median',\n",
    "    'AMT_CREDIT_SUM' : 'median',\n",
    "    'AMT_CREDIT_SUM_DEBT' : 'median',\n",
    "    'AMT_CREDIT_SUM_LIMIT': 'median',\n",
    "    'AMT_CREDIT_SUM_OVERDUE' :'median',\n",
    "    'CREDIT_TYPE': 'last',\n",
    "    'DAYS_CREDIT_UPDATE' : 'median',\n",
    "    'AMT_ANNUITY' : 'median',\n",
    "    'MONTHS_BALANCE' : 'median',\n",
    "    'STATUS': 'first'\n",
    "}).reset_index()\n",
    "\n",
    "df_bureau_agg.head()"
   ]
  },
  {
   "cell_type": "code",
   "execution_count": 28,
   "metadata": {},
   "outputs": [],
   "source": [
    "df_app_train = app_train.merge(df_bureau_agg, how='inner', on='SK_ID_CURR')\n",
    "df_app_test  = app_test.merge(df_bureau_agg, how='inner',on ='SK_ID_CURR') "
   ]
  },
  {
   "cell_type": "code",
   "execution_count": 29,
   "metadata": {},
   "outputs": [
    {
     "data": {
      "text/html": [
       "<div>\n",
       "<style scoped>\n",
       "    .dataframe tbody tr th:only-of-type {\n",
       "        vertical-align: middle;\n",
       "    }\n",
       "\n",
       "    .dataframe tbody tr th {\n",
       "        vertical-align: top;\n",
       "    }\n",
       "\n",
       "    .dataframe thead th {\n",
       "        text-align: right;\n",
       "    }\n",
       "</style>\n",
       "<table border=\"1\" class=\"dataframe\">\n",
       "  <thead>\n",
       "    <tr style=\"text-align: right;\">\n",
       "      <th></th>\n",
       "      <th>SK_ID_CURR</th>\n",
       "      <th>TARGET</th>\n",
       "      <th>NAME_CONTRACT_TYPE</th>\n",
       "      <th>CODE_GENDER</th>\n",
       "      <th>FLAG_OWN_CAR</th>\n",
       "      <th>FLAG_OWN_REALTY</th>\n",
       "      <th>CNT_CHILDREN</th>\n",
       "      <th>AMT_INCOME_TOTAL</th>\n",
       "      <th>AMT_CREDIT</th>\n",
       "      <th>AMT_ANNUITY_x</th>\n",
       "      <th>...</th>\n",
       "      <th>CNT_CREDIT_PROLONG</th>\n",
       "      <th>AMT_CREDIT_SUM</th>\n",
       "      <th>AMT_CREDIT_SUM_DEBT</th>\n",
       "      <th>AMT_CREDIT_SUM_LIMIT</th>\n",
       "      <th>AMT_CREDIT_SUM_OVERDUE</th>\n",
       "      <th>CREDIT_TYPE</th>\n",
       "      <th>DAYS_CREDIT_UPDATE</th>\n",
       "      <th>AMT_ANNUITY_y</th>\n",
       "      <th>MONTHS_BALANCE</th>\n",
       "      <th>STATUS</th>\n",
       "    </tr>\n",
       "  </thead>\n",
       "  <tbody>\n",
       "    <tr>\n",
       "      <th>0</th>\n",
       "      <td>100002</td>\n",
       "      <td>1</td>\n",
       "      <td>Cash loans</td>\n",
       "      <td>M</td>\n",
       "      <td>N</td>\n",
       "      <td>Y</td>\n",
       "      <td>0</td>\n",
       "      <td>202500.0</td>\n",
       "      <td>406597.5</td>\n",
       "      <td>24700.5</td>\n",
       "      <td>...</td>\n",
       "      <td>0.0</td>\n",
       "      <td>54130.5</td>\n",
       "      <td>0.00</td>\n",
       "      <td>0.0</td>\n",
       "      <td>0.0</td>\n",
       "      <td>Credit card</td>\n",
       "      <td>-402.5</td>\n",
       "      <td>0.0</td>\n",
       "      <td>-26.0</td>\n",
       "      <td>1</td>\n",
       "    </tr>\n",
       "    <tr>\n",
       "      <th>1</th>\n",
       "      <td>100010</td>\n",
       "      <td>0</td>\n",
       "      <td>Cash loans</td>\n",
       "      <td>M</td>\n",
       "      <td>Y</td>\n",
       "      <td>Y</td>\n",
       "      <td>0</td>\n",
       "      <td>360000.0</td>\n",
       "      <td>1530000.0</td>\n",
       "      <td>42075.0</td>\n",
       "      <td>...</td>\n",
       "      <td>0.0</td>\n",
       "      <td>495000.0</td>\n",
       "      <td>174003.75</td>\n",
       "      <td>0.0</td>\n",
       "      <td>0.0</td>\n",
       "      <td>Loan for business development</td>\n",
       "      <td>-578.0</td>\n",
       "      <td>NaN</td>\n",
       "      <td>-46.0</td>\n",
       "      <td>1</td>\n",
       "    </tr>\n",
       "    <tr>\n",
       "      <th>2</th>\n",
       "      <td>100019</td>\n",
       "      <td>0</td>\n",
       "      <td>Cash loans</td>\n",
       "      <td>M</td>\n",
       "      <td>Y</td>\n",
       "      <td>Y</td>\n",
       "      <td>0</td>\n",
       "      <td>157500.0</td>\n",
       "      <td>299772.0</td>\n",
       "      <td>20160.0</td>\n",
       "      <td>...</td>\n",
       "      <td>0.0</td>\n",
       "      <td>360000.0</td>\n",
       "      <td>122735.07</td>\n",
       "      <td>135000.0</td>\n",
       "      <td>0.0</td>\n",
       "      <td>Consumer credit</td>\n",
       "      <td>-26.5</td>\n",
       "      <td>27000.0</td>\n",
       "      <td>-8.0</td>\n",
       "      <td>1</td>\n",
       "    </tr>\n",
       "    <tr>\n",
       "      <th>3</th>\n",
       "      <td>100032</td>\n",
       "      <td>0</td>\n",
       "      <td>Cash loans</td>\n",
       "      <td>M</td>\n",
       "      <td>N</td>\n",
       "      <td>Y</td>\n",
       "      <td>1</td>\n",
       "      <td>112500.0</td>\n",
       "      <td>327024.0</td>\n",
       "      <td>23827.5</td>\n",
       "      <td>...</td>\n",
       "      <td>0.0</td>\n",
       "      <td>331875.0</td>\n",
       "      <td>0.00</td>\n",
       "      <td>0.0</td>\n",
       "      <td>0.0</td>\n",
       "      <td>Consumer credit</td>\n",
       "      <td>-520.5</td>\n",
       "      <td>17437.5</td>\n",
       "      <td>-29.0</td>\n",
       "      <td>1</td>\n",
       "    </tr>\n",
       "    <tr>\n",
       "      <th>4</th>\n",
       "      <td>100033</td>\n",
       "      <td>0</td>\n",
       "      <td>Cash loans</td>\n",
       "      <td>M</td>\n",
       "      <td>Y</td>\n",
       "      <td>Y</td>\n",
       "      <td>0</td>\n",
       "      <td>270000.0</td>\n",
       "      <td>790830.0</td>\n",
       "      <td>57676.5</td>\n",
       "      <td>...</td>\n",
       "      <td>0.0</td>\n",
       "      <td>675000.0</td>\n",
       "      <td>0.00</td>\n",
       "      <td>0.0</td>\n",
       "      <td>0.0</td>\n",
       "      <td>Credit card</td>\n",
       "      <td>-169.0</td>\n",
       "      <td>NaN</td>\n",
       "      <td>-3.0</td>\n",
       "      <td>1</td>\n",
       "    </tr>\n",
       "  </tbody>\n",
       "</table>\n",
       "<p>5 rows × 140 columns</p>\n",
       "</div>"
      ],
      "text/plain": [
       "   SK_ID_CURR  TARGET NAME_CONTRACT_TYPE CODE_GENDER FLAG_OWN_CAR  \\\n",
       "0      100002       1         Cash loans           M            N   \n",
       "1      100010       0         Cash loans           M            Y   \n",
       "2      100019       0         Cash loans           M            Y   \n",
       "3      100032       0         Cash loans           M            N   \n",
       "4      100033       0         Cash loans           M            Y   \n",
       "\n",
       "  FLAG_OWN_REALTY  CNT_CHILDREN  AMT_INCOME_TOTAL  AMT_CREDIT  AMT_ANNUITY_x  \\\n",
       "0               Y             0          202500.0    406597.5        24700.5   \n",
       "1               Y             0          360000.0   1530000.0        42075.0   \n",
       "2               Y             0          157500.0    299772.0        20160.0   \n",
       "3               Y             1          112500.0    327024.0        23827.5   \n",
       "4               Y             0          270000.0    790830.0        57676.5   \n",
       "\n",
       "   ...  CNT_CREDIT_PROLONG AMT_CREDIT_SUM AMT_CREDIT_SUM_DEBT  \\\n",
       "0  ...                 0.0        54130.5                0.00   \n",
       "1  ...                 0.0       495000.0           174003.75   \n",
       "2  ...                 0.0       360000.0           122735.07   \n",
       "3  ...                 0.0       331875.0                0.00   \n",
       "4  ...                 0.0       675000.0                0.00   \n",
       "\n",
       "  AMT_CREDIT_SUM_LIMIT AMT_CREDIT_SUM_OVERDUE                    CREDIT_TYPE  \\\n",
       "0                  0.0                    0.0                    Credit card   \n",
       "1                  0.0                    0.0  Loan for business development   \n",
       "2             135000.0                    0.0                Consumer credit   \n",
       "3                  0.0                    0.0                Consumer credit   \n",
       "4                  0.0                    0.0                    Credit card   \n",
       "\n",
       "   DAYS_CREDIT_UPDATE  AMT_ANNUITY_y  MONTHS_BALANCE  STATUS  \n",
       "0              -402.5            0.0           -26.0       1  \n",
       "1              -578.0            NaN           -46.0       1  \n",
       "2               -26.5        27000.0            -8.0       1  \n",
       "3              -520.5        17437.5           -29.0       1  \n",
       "4              -169.0            NaN            -3.0       1  \n",
       "\n",
       "[5 rows x 140 columns]"
      ]
     },
     "execution_count": 29,
     "metadata": {},
     "output_type": "execute_result"
    }
   ],
   "source": [
    "df_app_train.head()"
   ]
  },
  {
   "cell_type": "code",
   "execution_count": 30,
   "metadata": {},
   "outputs": [
    {
     "name": "stdout",
     "output_type": "stream",
     "text": [
      "TARGET\n",
      "0    282686\n",
      "1     24825\n",
      "Name: count, dtype: int64\n"
     ]
    }
   ],
   "source": [
    "print(app_train.TARGET.value_counts())"
   ]
  },
  {
   "cell_type": "code",
   "execution_count": 31,
   "metadata": {},
   "outputs": [],
   "source": [
    "def func_info(data):\n",
    "\n",
    "    list_column =[]\n",
    "    list_type   =[]\n",
    "    list_len    =[] \n",
    "    list_null   =[]\n",
    "    list_persen_null =[]\n",
    "    list_value_count = []\n",
    "    list_len_unique=[]\n",
    "\n",
    "    for column in data.columns:\n",
    "\n",
    "        column_name = column\n",
    "        column_type = data[column].dtype\n",
    "        column_len  = data[column].notnull().sum()\n",
    "        column_null = data[column].isnull().sum()\n",
    "        column_persen = round(column_null/data.shape[0] *100,2)\n",
    "\n",
    "        list_column.append(column_name)\n",
    "        list_type.append(column_type)\n",
    "        list_len.append(column_len)\n",
    "        list_null.append(column_null)\n",
    "        list_persen_null.append(column_persen)\n",
    "\n",
    "    df_info = pd.DataFrame({'column' : list_column,\n",
    "                          'dtype'  : list_type,\n",
    "                          'length' : list_len,\n",
    "                          'null_count': list_null,\n",
    "                          'null_percents': list_persen_null})\n",
    "    \n",
    "    for index,row in df_info.iterrows() :\n",
    "        if row['dtype'] == 'object':\n",
    "            value_count = data[row.column].value_counts().reset_index()\n",
    "            value_count = value_count.values.tolist()\n",
    "            len_unique = len(value_count)\n",
    "        else:\n",
    "            value_count = None\n",
    "            len_unique = None\n",
    "\n",
    "        list_value_count.append(value_count)\n",
    "        list_len_unique.append(len_unique)\n",
    "\n",
    "    df_info['value_count'] = list_value_count\n",
    "    df_info['len_unique'] = list_len_unique\n",
    "    \n",
    "    return df_info"
   ]
  },
  {
   "cell_type": "code",
   "execution_count": 32,
   "metadata": {},
   "outputs": [
    {
     "name": "stdout",
     "output_type": "stream",
     "text": [
      "---------------------info_train--------------\n"
     ]
    },
    {
     "data": {
      "text/html": [
       "<div>\n",
       "<style scoped>\n",
       "    .dataframe tbody tr th:only-of-type {\n",
       "        vertical-align: middle;\n",
       "    }\n",
       "\n",
       "    .dataframe tbody tr th {\n",
       "        vertical-align: top;\n",
       "    }\n",
       "\n",
       "    .dataframe thead th {\n",
       "        text-align: right;\n",
       "    }\n",
       "</style>\n",
       "<table border=\"1\" class=\"dataframe\">\n",
       "  <thead>\n",
       "    <tr style=\"text-align: right;\">\n",
       "      <th></th>\n",
       "      <th>column</th>\n",
       "      <th>dtype</th>\n",
       "      <th>length</th>\n",
       "      <th>null_count</th>\n",
       "      <th>null_percents</th>\n",
       "      <th>value_count</th>\n",
       "      <th>len_unique</th>\n",
       "    </tr>\n",
       "  </thead>\n",
       "  <tbody>\n",
       "    <tr>\n",
       "      <th>0</th>\n",
       "      <td>SK_ID_CURR</td>\n",
       "      <td>int64</td>\n",
       "      <td>92231</td>\n",
       "      <td>0</td>\n",
       "      <td>0.0</td>\n",
       "      <td>None</td>\n",
       "      <td>NaN</td>\n",
       "    </tr>\n",
       "    <tr>\n",
       "      <th>1</th>\n",
       "      <td>TARGET</td>\n",
       "      <td>int64</td>\n",
       "      <td>92231</td>\n",
       "      <td>0</td>\n",
       "      <td>0.0</td>\n",
       "      <td>None</td>\n",
       "      <td>NaN</td>\n",
       "    </tr>\n",
       "    <tr>\n",
       "      <th>2</th>\n",
       "      <td>NAME_CONTRACT_TYPE</td>\n",
       "      <td>object</td>\n",
       "      <td>92231</td>\n",
       "      <td>0</td>\n",
       "      <td>0.0</td>\n",
       "      <td>[[Cash loans, 91849], [Revolving loans, 382]]</td>\n",
       "      <td>2.0</td>\n",
       "    </tr>\n",
       "    <tr>\n",
       "      <th>3</th>\n",
       "      <td>CODE_GENDER</td>\n",
       "      <td>object</td>\n",
       "      <td>92231</td>\n",
       "      <td>0</td>\n",
       "      <td>0.0</td>\n",
       "      <td>[[F, 59935], [M, 32296]]</td>\n",
       "      <td>2.0</td>\n",
       "    </tr>\n",
       "    <tr>\n",
       "      <th>4</th>\n",
       "      <td>FLAG_OWN_CAR</td>\n",
       "      <td>object</td>\n",
       "      <td>92231</td>\n",
       "      <td>0</td>\n",
       "      <td>0.0</td>\n",
       "      <td>[[N, 58979], [Y, 33252]]</td>\n",
       "      <td>2.0</td>\n",
       "    </tr>\n",
       "  </tbody>\n",
       "</table>\n",
       "</div>"
      ],
      "text/plain": [
       "               column   dtype  length  null_count  null_percents  \\\n",
       "0          SK_ID_CURR   int64   92231           0            0.0   \n",
       "1              TARGET   int64   92231           0            0.0   \n",
       "2  NAME_CONTRACT_TYPE  object   92231           0            0.0   \n",
       "3         CODE_GENDER  object   92231           0            0.0   \n",
       "4        FLAG_OWN_CAR  object   92231           0            0.0   \n",
       "\n",
       "                                     value_count  len_unique  \n",
       "0                                           None         NaN  \n",
       "1                                           None         NaN  \n",
       "2  [[Cash loans, 91849], [Revolving loans, 382]]         2.0  \n",
       "3                       [[F, 59935], [M, 32296]]         2.0  \n",
       "4                       [[N, 58979], [Y, 33252]]         2.0  "
      ]
     },
     "metadata": {},
     "output_type": "display_data"
    },
    {
     "name": "stdout",
     "output_type": "stream",
     "text": [
      "---------------------info_test--------------\n"
     ]
    },
    {
     "data": {
      "text/html": [
       "<div>\n",
       "<style scoped>\n",
       "    .dataframe tbody tr th:only-of-type {\n",
       "        vertical-align: middle;\n",
       "    }\n",
       "\n",
       "    .dataframe tbody tr th {\n",
       "        vertical-align: top;\n",
       "    }\n",
       "\n",
       "    .dataframe thead th {\n",
       "        text-align: right;\n",
       "    }\n",
       "</style>\n",
       "<table border=\"1\" class=\"dataframe\">\n",
       "  <thead>\n",
       "    <tr style=\"text-align: right;\">\n",
       "      <th></th>\n",
       "      <th>column</th>\n",
       "      <th>dtype</th>\n",
       "      <th>length</th>\n",
       "      <th>null_count</th>\n",
       "      <th>null_percents</th>\n",
       "      <th>value_count</th>\n",
       "      <th>len_unique</th>\n",
       "    </tr>\n",
       "  </thead>\n",
       "  <tbody>\n",
       "    <tr>\n",
       "      <th>0</th>\n",
       "      <td>SK_ID_CURR</td>\n",
       "      <td>int64</td>\n",
       "      <td>42311</td>\n",
       "      <td>0</td>\n",
       "      <td>0.0</td>\n",
       "      <td>None</td>\n",
       "      <td>NaN</td>\n",
       "    </tr>\n",
       "    <tr>\n",
       "      <th>1</th>\n",
       "      <td>NAME_CONTRACT_TYPE</td>\n",
       "      <td>object</td>\n",
       "      <td>42311</td>\n",
       "      <td>0</td>\n",
       "      <td>0.0</td>\n",
       "      <td>[[Cash loans, 41933], [Revolving loans, 378]]</td>\n",
       "      <td>2.0</td>\n",
       "    </tr>\n",
       "    <tr>\n",
       "      <th>2</th>\n",
       "      <td>CODE_GENDER</td>\n",
       "      <td>object</td>\n",
       "      <td>42311</td>\n",
       "      <td>0</td>\n",
       "      <td>0.0</td>\n",
       "      <td>[[F, 28763], [M, 13548]]</td>\n",
       "      <td>2.0</td>\n",
       "    </tr>\n",
       "    <tr>\n",
       "      <th>3</th>\n",
       "      <td>FLAG_OWN_CAR</td>\n",
       "      <td>object</td>\n",
       "      <td>42311</td>\n",
       "      <td>0</td>\n",
       "      <td>0.0</td>\n",
       "      <td>[[N, 27674], [Y, 14637]]</td>\n",
       "      <td>2.0</td>\n",
       "    </tr>\n",
       "    <tr>\n",
       "      <th>4</th>\n",
       "      <td>FLAG_OWN_REALTY</td>\n",
       "      <td>object</td>\n",
       "      <td>42311</td>\n",
       "      <td>0</td>\n",
       "      <td>0.0</td>\n",
       "      <td>[[Y, 29253], [N, 13058]]</td>\n",
       "      <td>2.0</td>\n",
       "    </tr>\n",
       "  </tbody>\n",
       "</table>\n",
       "</div>"
      ],
      "text/plain": [
       "               column   dtype  length  null_count  null_percents  \\\n",
       "0          SK_ID_CURR   int64   42311           0            0.0   \n",
       "1  NAME_CONTRACT_TYPE  object   42311           0            0.0   \n",
       "2         CODE_GENDER  object   42311           0            0.0   \n",
       "3        FLAG_OWN_CAR  object   42311           0            0.0   \n",
       "4     FLAG_OWN_REALTY  object   42311           0            0.0   \n",
       "\n",
       "                                     value_count  len_unique  \n",
       "0                                           None         NaN  \n",
       "1  [[Cash loans, 41933], [Revolving loans, 378]]         2.0  \n",
       "2                       [[F, 28763], [M, 13548]]         2.0  \n",
       "3                       [[N, 27674], [Y, 14637]]         2.0  \n",
       "4                       [[Y, 29253], [N, 13058]]         2.0  "
      ]
     },
     "metadata": {},
     "output_type": "display_data"
    }
   ],
   "source": [
    "info_train = func_info(df_app_train)\n",
    "info_test = func_info(df_app_test)\n",
    "\n",
    "#info_train_sort = info_train[(info_train.null_count>0)].sort_values(by = 'null_count',ascending=False)\n",
    "#info_test_sort  = info_test[(info_test.null_count>0)].sort_values(by='null_count',ascending=False)\n",
    "\n",
    "print('---------------------info_train--------------')\n",
    "display(info_train.head())\n",
    "print('---------------------info_test--------------')\n",
    "display(info_test.head())"
   ]
  },
  {
   "cell_type": "code",
   "execution_count": 33,
   "metadata": {},
   "outputs": [
    {
     "data": {
      "image/png": "[encoded data removed]",
      "text/plain": [
       "<Figure size 640x480 with 1 Axes>"
      ]
     },
     "metadata": {},
     "output_type": "display_data"
    }
   ],
   "source": [
    "plt.hist(info_train.null_percents)\n",
    "plt.title('Distribution Null_Values')\n",
    "plt.show()\n"
   ]
  },
  {
   "cell_type": "code",
   "execution_count": 34,
   "metadata": {},
   "outputs": [
    {
     "data": {
      "text/html": [
       "<div>\n",
       "<style scoped>\n",
       "    .dataframe tbody tr th:only-of-type {\n",
       "        vertical-align: middle;\n",
       "    }\n",
       "\n",
       "    .dataframe tbody tr th {\n",
       "        vertical-align: top;\n",
       "    }\n",
       "\n",
       "    .dataframe thead th {\n",
       "        text-align: right;\n",
       "    }\n",
       "</style>\n",
       "<table border=\"1\" class=\"dataframe\">\n",
       "  <thead>\n",
       "    <tr style=\"text-align: right;\">\n",
       "      <th></th>\n",
       "      <th>SK_ID_CURR</th>\n",
       "      <th>TARGET</th>\n",
       "      <th>NAME_CONTRACT_TYPE</th>\n",
       "      <th>CODE_GENDER</th>\n",
       "      <th>FLAG_OWN_CAR</th>\n",
       "      <th>FLAG_OWN_REALTY</th>\n",
       "      <th>CNT_CHILDREN</th>\n",
       "      <th>AMT_INCOME_TOTAL</th>\n",
       "      <th>AMT_CREDIT</th>\n",
       "      <th>AMT_ANNUITY_x</th>\n",
       "      <th>...</th>\n",
       "      <th>DAYS_CREDIT</th>\n",
       "      <th>CREDIT_DAY_OVERDUE</th>\n",
       "      <th>DAYS_CREDIT_ENDDATE</th>\n",
       "      <th>CNT_CREDIT_PROLONG</th>\n",
       "      <th>AMT_CREDIT_SUM</th>\n",
       "      <th>AMT_CREDIT_SUM_DEBT</th>\n",
       "      <th>AMT_CREDIT_SUM_OVERDUE</th>\n",
       "      <th>DAYS_CREDIT_UPDATE</th>\n",
       "      <th>MONTHS_BALANCE</th>\n",
       "      <th>STATUS</th>\n",
       "    </tr>\n",
       "  </thead>\n",
       "  <tbody>\n",
       "    <tr>\n",
       "      <th>0</th>\n",
       "      <td>100002</td>\n",
       "      <td>1</td>\n",
       "      <td>Cash loans</td>\n",
       "      <td>M</td>\n",
       "      <td>N</td>\n",
       "      <td>Y</td>\n",
       "      <td>0</td>\n",
       "      <td>202500.0</td>\n",
       "      <td>406597.5</td>\n",
       "      <td>24700.5</td>\n",
       "      <td>...</td>\n",
       "      <td>-1042.5</td>\n",
       "      <td>0.0</td>\n",
       "      <td>-424.5</td>\n",
       "      <td>0.0</td>\n",
       "      <td>54130.5</td>\n",
       "      <td>0.00</td>\n",
       "      <td>0.0</td>\n",
       "      <td>-402.5</td>\n",
       "      <td>-26.0</td>\n",
       "      <td>1</td>\n",
       "    </tr>\n",
       "    <tr>\n",
       "      <th>1</th>\n",
       "      <td>100010</td>\n",
       "      <td>0</td>\n",
       "      <td>Cash loans</td>\n",
       "      <td>M</td>\n",
       "      <td>Y</td>\n",
       "      <td>Y</td>\n",
       "      <td>0</td>\n",
       "      <td>360000.0</td>\n",
       "      <td>1530000.0</td>\n",
       "      <td>42075.0</td>\n",
       "      <td>...</td>\n",
       "      <td>-1939.5</td>\n",
       "      <td>0.0</td>\n",
       "      <td>-119.5</td>\n",
       "      <td>0.0</td>\n",
       "      <td>495000.0</td>\n",
       "      <td>174003.75</td>\n",
       "      <td>0.0</td>\n",
       "      <td>-578.0</td>\n",
       "      <td>-46.0</td>\n",
       "      <td>1</td>\n",
       "    </tr>\n",
       "    <tr>\n",
       "      <th>2</th>\n",
       "      <td>100019</td>\n",
       "      <td>0</td>\n",
       "      <td>Cash loans</td>\n",
       "      <td>M</td>\n",
       "      <td>Y</td>\n",
       "      <td>Y</td>\n",
       "      <td>0</td>\n",
       "      <td>157500.0</td>\n",
       "      <td>299772.0</td>\n",
       "      <td>20160.0</td>\n",
       "      <td>...</td>\n",
       "      <td>-495.0</td>\n",
       "      <td>0.0</td>\n",
       "      <td>5441.0</td>\n",
       "      <td>0.0</td>\n",
       "      <td>360000.0</td>\n",
       "      <td>122735.07</td>\n",
       "      <td>0.0</td>\n",
       "      <td>-26.5</td>\n",
       "      <td>-8.0</td>\n",
       "      <td>1</td>\n",
       "    </tr>\n",
       "    <tr>\n",
       "      <th>3</th>\n",
       "      <td>100032</td>\n",
       "      <td>0</td>\n",
       "      <td>Cash loans</td>\n",
       "      <td>M</td>\n",
       "      <td>N</td>\n",
       "      <td>Y</td>\n",
       "      <td>1</td>\n",
       "      <td>112500.0</td>\n",
       "      <td>327024.0</td>\n",
       "      <td>23827.5</td>\n",
       "      <td>...</td>\n",
       "      <td>-1169.5</td>\n",
       "      <td>0.0</td>\n",
       "      <td>-624.0</td>\n",
       "      <td>0.0</td>\n",
       "      <td>331875.0</td>\n",
       "      <td>0.00</td>\n",
       "      <td>0.0</td>\n",
       "      <td>-520.5</td>\n",
       "      <td>-29.0</td>\n",
       "      <td>1</td>\n",
       "    </tr>\n",
       "    <tr>\n",
       "      <th>4</th>\n",
       "      <td>100033</td>\n",
       "      <td>0</td>\n",
       "      <td>Cash loans</td>\n",
       "      <td>M</td>\n",
       "      <td>Y</td>\n",
       "      <td>Y</td>\n",
       "      <td>0</td>\n",
       "      <td>270000.0</td>\n",
       "      <td>790830.0</td>\n",
       "      <td>57676.5</td>\n",
       "      <td>...</td>\n",
       "      <td>-195.0</td>\n",
       "      <td>0.0</td>\n",
       "      <td>913.0</td>\n",
       "      <td>0.0</td>\n",
       "      <td>675000.0</td>\n",
       "      <td>0.00</td>\n",
       "      <td>0.0</td>\n",
       "      <td>-169.0</td>\n",
       "      <td>-3.0</td>\n",
       "      <td>1</td>\n",
       "    </tr>\n",
       "  </tbody>\n",
       "</table>\n",
       "<p>5 rows × 80 columns</p>\n",
       "</div>"
      ],
      "text/plain": [
       "   SK_ID_CURR  TARGET NAME_CONTRACT_TYPE CODE_GENDER FLAG_OWN_CAR  \\\n",
       "0      100002       1         Cash loans           M            N   \n",
       "1      100010       0         Cash loans           M            Y   \n",
       "2      100019       0         Cash loans           M            Y   \n",
       "3      100032       0         Cash loans           M            N   \n",
       "4      100033       0         Cash loans           M            Y   \n",
       "\n",
       "  FLAG_OWN_REALTY  CNT_CHILDREN  AMT_INCOME_TOTAL  AMT_CREDIT  AMT_ANNUITY_x  \\\n",
       "0               Y             0          202500.0    406597.5        24700.5   \n",
       "1               Y             0          360000.0   1530000.0        42075.0   \n",
       "2               Y             0          157500.0    299772.0        20160.0   \n",
       "3               Y             1          112500.0    327024.0        23827.5   \n",
       "4               Y             0          270000.0    790830.0        57676.5   \n",
       "\n",
       "   ...  DAYS_CREDIT CREDIT_DAY_OVERDUE DAYS_CREDIT_ENDDATE CNT_CREDIT_PROLONG  \\\n",
       "0  ...      -1042.5                0.0              -424.5                0.0   \n",
       "1  ...      -1939.5                0.0              -119.5                0.0   \n",
       "2  ...       -495.0                0.0              5441.0                0.0   \n",
       "3  ...      -1169.5                0.0              -624.0                0.0   \n",
       "4  ...       -195.0                0.0               913.0                0.0   \n",
       "\n",
       "   AMT_CREDIT_SUM  AMT_CREDIT_SUM_DEBT  AMT_CREDIT_SUM_OVERDUE  \\\n",
       "0         54130.5                 0.00                     0.0   \n",
       "1        495000.0            174003.75                     0.0   \n",
       "2        360000.0            122735.07                     0.0   \n",
       "3        331875.0                 0.00                     0.0   \n",
       "4        675000.0                 0.00                     0.0   \n",
       "\n",
       "   DAYS_CREDIT_UPDATE  MONTHS_BALANCE  STATUS  \n",
       "0              -402.5           -26.0       1  \n",
       "1              -578.0           -46.0       1  \n",
       "2               -26.5            -8.0       1  \n",
       "3              -520.5           -29.0       1  \n",
       "4              -169.0            -3.0       1  \n",
       "\n",
       "[5 rows x 80 columns]"
      ]
     },
     "execution_count": 34,
     "metadata": {},
     "output_type": "execute_result"
    }
   ],
   "source": [
    "#delete some column that has null_percent more than 5 percent \n",
    "first_filter_column = info_train[info_train['null_percents'] < 5]\n",
    "#delete column object that too long unique value\n",
    "second_filter_column = first_filter_column[~((first_filter_column['dtype'] == 'object') &\n",
    "                        (first_filter_column.len_unique > 5))]\n",
    "\n",
    "#df_app_train temporary selected column\n",
    "df_app_train_selected = df_app_train[second_filter_column['column'].values.tolist()]\n",
    "df_app_train_selected.head()"
   ]
  },
  {
   "cell_type": "markdown",
   "metadata": {},
   "source": [
    "# DUPLICATED DATA"
   ]
  },
  {
   "cell_type": "code",
   "execution_count": 35,
   "metadata": {},
   "outputs": [
    {
     "name": "stdout",
     "output_type": "stream",
     "text": [
      "total data duplicate :0\n"
     ]
    }
   ],
   "source": [
    "n_duplicate = df_app_train_selected.duplicated().sum()\n",
    "print('total data duplicate :' +str(n_duplicate))"
   ]
  },
  {
   "cell_type": "markdown",
   "metadata": {},
   "source": [
    "# FILL NA"
   ]
  },
  {
   "cell_type": "code",
   "execution_count": 36,
   "metadata": {},
   "outputs": [
    {
     "name": "stdout",
     "output_type": "stream",
     "text": [
      "n_column that has null values before fillna :9\n",
      "n_column that has null values after fillna  :0/no left\n"
     ]
    }
   ],
   "source": [
    "#check how many columns that have null values\n",
    "list_na = second_filter_column['column'][second_filter_column['null_count'] >0].values.tolist()\n",
    "len_init = len(list_na)\n",
    "for col in list_na:\n",
    "    df_app_train_selected[col] = df_app_train_selected[col].fillna(df_app_train_selected[col].median()) \n",
    "\n",
    "df_app_train_selected_info = func_info(df_app_train_selected)\n",
    "len_final = len(df_app_train_selected_info[df_app_train_selected_info['null_count'] > 0])\n",
    "print('n_column that has null values before fillna :' + str(len_init) )\n",
    "print('n_column that has null values after fillna  :'  + str(len_final) + '/no left')"
   ]
  },
  {
   "cell_type": "markdown",
   "metadata": {},
   "source": [
    "# FEATURE EXTRACTION"
   ]
  },
  {
   "cell_type": "code",
   "execution_count": 37,
   "metadata": {},
   "outputs": [
    {
     "data": {
      "text/plain": [
       "NAME_CONTRACT_TYPE\n",
       "Cash loans         91849\n",
       "Revolving loans      382\n",
       "Name: count, dtype: int64"
      ]
     },
     "execution_count": 37,
     "metadata": {},
     "output_type": "execute_result"
    }
   ],
   "source": [
    "#Name_Family_Status \n",
    "list_not_married = ['Single / not married','Separated','Widow']\n",
    "list_married = ['Married','Civil marriage']\n",
    "df_app_train_selected['NAME_FAMILY_STATUS'][df_app_train_selected['NAME_FAMILY_STATUS'].isin(list_married)] = 'Married'\n",
    "df_app_train_selected['NAME_FAMILY_STATUS'][df_app_train_selected['NAME_FAMILY_STATUS'].isin(list_not_married)] = 'Single'\n",
    "\n",
    "#Drop column CREDIT CURRENCY\n",
    "#because doent have valuable information\n",
    "df_app_train_selected = df_app_train_selected.drop('CREDIT_CURRENCY',axis=1)\n",
    "\n",
    "df_app_train_selected['NAME_CONTRACT_TYPE'].value_counts()"
   ]
  },
  {
   "cell_type": "markdown",
   "metadata": {},
   "source": [
    "# FEATURE ENCODING\n",
    "change column object data to one hot or label encoding "
   ]
  },
  {
   "cell_type": "code",
   "execution_count": 38,
   "metadata": {},
   "outputs": [],
   "source": [
    "#label encoding \n",
    "map_name_contract_type  = {'Cash loans':0,'Revolving loans':1}\n",
    "map_code_gender         = {'F':0,'M':1}\n",
    "map_flag_own_car        = {'N':0,'Y':1}\n",
    "map_flag_own_realty     = {'N':0,'Y':1}\n",
    "map_name_family_status  = {'Single':0, 'Married':1}\n",
    "\n",
    "df_app_train_selected['NAME_CONTRACT_TYPE'] = df_app_train_selected['NAME_CONTRACT_TYPE'].map(map_name_contract_type)\n",
    "df_app_train_selected['CODE_GENDER'] = df_app_train_selected['CODE_GENDER'].map(map_code_gender)\n",
    "df_app_train_selected['FLAG_OWN_CAR'] = df_app_train_selected['FLAG_OWN_CAR'].map(map_flag_own_car)\n",
    "df_app_train_selected['FLAG_OWN_REALTY'] = df_app_train_selected['FLAG_OWN_REALTY'].map(map_flag_own_realty)\n",
    "df_app_train_selected['NAME_FAMILY_STATUS'] = df_app_train_selected['NAME_FAMILY_STATUS'].map(map_name_family_status)\n",
    "\n",
    "#one_hot encoding\n",
    "#income_type\n",
    "for cat in ['NAME_INCOME_TYPE']:\n",
    "    onehots = pd.get_dummies(df_app_train_selected[cat], prefix='income_type', drop_first = False)\n",
    "    df_app_train_selected =  df_app_train_selected.join(onehots)\n",
    "#education_type\n",
    "for cat in ['NAME_EDUCATION_TYPE']:\n",
    "    onehots = pd.get_dummies(df_app_train_selected[cat], prefix='education', drop_first = False)\n",
    "    df_app_train_selected =  df_app_train_selected.join(onehots)\n",
    "#credit_active\n",
    "for cat in ['CREDIT_ACTIVE']:\n",
    "    onehots = pd.get_dummies(df_app_train_selected[cat], prefix='credit', drop_first = False)\n",
    "    df_app_train_selected =  df_app_train_selected.join(onehots)\n",
    "\n",
    "df_app_train_selected.drop(['NAME_INCOME_TYPE','NAME_EDUCATION_TYPE','CREDIT_ACTIVE'],axis=1,inplace=True)"
   ]
  },
  {
   "cell_type": "code",
   "execution_count": 39,
   "metadata": {},
   "outputs": [
    {
     "data": {
      "text/plain": [
       "NAME_FAMILY_STATUS\n",
       "1    69670\n",
       "0    22561\n",
       "Name: count, dtype: int64"
      ]
     },
     "execution_count": 39,
     "metadata": {},
     "output_type": "execute_result"
    }
   ],
   "source": [
    "df_app_train_selected['NAME_FAMILY_STATUS'].value_counts()"
   ]
  },
  {
   "cell_type": "markdown",
   "metadata": {},
   "source": [
    "# SPLIT DATA TO TRAIN AND TEST"
   ]
  },
  {
   "cell_type": "code",
   "execution_count": 40,
   "metadata": {},
   "outputs": [
    {
     "name": "stdout",
     "output_type": "stream",
     "text": [
      "len_x_train 73784\n",
      "len_x_test 18447\n"
     ]
    }
   ],
   "source": [
    "from  sklearn.model_selection import train_test_split\n",
    "no_use = ['SK_ID_CURR','TARGET']\n",
    "X = df_app_train_selected.loc[:,~df_app_train_selected.columns.isin(no_use)]\n",
    "y = df_app_train_selected['TARGET']\n",
    "\n",
    "from sklearn.model_selection import train_test_split\n",
    "x_train, x_test, y_train, y_test = train_test_split(X, y, test_size=0.2, random_state=42)\n",
    "\n",
    "print('len_x_train '+ str(len(x_train)))\n",
    "print('len_x_test ' + str(len(x_test)))"
   ]
  },
  {
   "cell_type": "markdown",
   "metadata": {},
   "source": [
    "# FEATURE TRANSFORMATION\n",
    "feature transformation using standardScaler() "
   ]
  },
  {
   "cell_type": "code",
   "execution_count": 41,
   "metadata": {},
   "outputs": [],
   "source": [
    "#standarisasi\n",
    "df_SS_train = x_train.copy()\n",
    "df_SS_test = x_test.copy()"
   ]
  },
  {
   "cell_type": "code",
   "execution_count": 42,
   "metadata": {},
   "outputs": [],
   "source": [
    "from sklearn.preprocessing import StandardScaler\n",
    "\n",
    "scaler = StandardScaler()\n",
    "scaler.fit(df_SS_train)\n",
    "df_SS_train = scaler.transform(df_SS_train)\n",
    "df_SS_test = scaler.transform(df_SS_test)\n",
    "#mengubah dari list ke dalam bentuk data frame\n",
    "df_x_train = pd.DataFrame(df_SS_train, columns = x_train.columns)\n",
    "df_x_test = pd.DataFrame(df_SS_test, columns = x_test.columns)"
   ]
  },
  {
   "cell_type": "markdown",
   "metadata": {},
   "source": [
    "# HANDLE CLASS IMBALANCE"
   ]
  },
  {
   "cell_type": "code",
   "execution_count": 43,
   "metadata": {},
   "outputs": [
    {
     "name": "stdout",
     "output_type": "stream",
     "text": [
      "before treatment\n",
      "TARGET\n",
      "0    67788\n",
      "1     5996\n",
      "Name: count, dtype: int64\n"
     ]
    }
   ],
   "source": [
    "#data distribution before imbalance treatment\n",
    "print('before treatment')\n",
    "print(y_train.value_counts())"
   ]
  },
  {
   "cell_type": "code",
   "execution_count": 44,
   "metadata": {},
   "outputs": [],
   "source": [
    "#using oversampling-undersampling smotenn\n",
    "from imblearn.combine import SMOTEENN\n",
    "from imblearn.over_sampling import SMOTE\n",
    "model = SMOTE(random_state=42)\n",
    "#model = SMOTEENN(sampling_strategy='minority', random_state=42)\n",
    "x_balance, y_balance = model.fit_resample(df_x_train, y_train)\n"
   ]
  },
  {
   "cell_type": "code",
   "execution_count": 45,
   "metadata": {},
   "outputs": [
    {
     "name": "stdout",
     "output_type": "stream",
     "text": [
      "after treatment\n",
      "TARGET\n",
      "0    67788\n",
      "1    67788\n",
      "Name: count, dtype: int64\n"
     ]
    }
   ],
   "source": [
    "print('after treatment')\n",
    "print(y_balance.value_counts())"
   ]
  },
  {
   "cell_type": "markdown",
   "metadata": {},
   "source": [
    "# MODELLING "
   ]
  },
  {
   "cell_type": "code",
   "execution_count": 46,
   "metadata": {},
   "outputs": [],
   "source": [
    "from sklearn.metrics import accuracy_score, precision_score, recall_score, f1_score, roc_auc_score\n",
    "from sklearn.model_selection import cross_validate\n",
    "\n",
    "def eval_classification(model):\n",
    "    y_pred = model.predict(X_test)\n",
    "    y_pred_train = model.predict(X_train)\n",
    "    y_pred_proba = model.predict_proba(X_test)\n",
    "    y_pred_proba_train = model.predict_proba(X_train)\n",
    "\n",
    "    print(\"Accuracy (Test Set): %.2f\" % accuracy_score(y_test, y_pred))\n",
    "    print(\"Precision (Test Set): %.2f\" % precision_score(y_test, y_pred))\n",
    "    print(\"Recall (Test Set): %.2f\" % recall_score(y_test, y_pred))\n",
    "    print(\"F1-Score (Test Set): %.2f\" % f1_score(y_test, y_pred))\n",
    "\n",
    "    print(\"roc_auc (test-proba): %.2f\" % roc_auc_score(y_test, y_pred_proba[:, 1]))\n",
    "    print(\"roc_auc (train-proba): %.2f\" % roc_auc_score(y_train, y_pred_proba_train[:, 1]))\n",
    "\n",
    "def show_feature_importance(model):\n",
    "    feat_importances = pd.Series(model.feature_importances_, index=X.columns)\n",
    "    ax = feat_importances.nlargest(25).plot(kind='barh', figsize=(10, 8))\n",
    "    ax.invert_yaxis()\n",
    "\n",
    "    plt.xlabel('score')\n",
    "    plt.ylabel('feature')\n",
    "    plt.title('feature importance score')"
   ]
  },
  {
   "cell_type": "code",
   "execution_count": 47,
   "metadata": {},
   "outputs": [],
   "source": [
    "X_train = x_balance\n",
    "y_train = y_balance\n",
    "\n",
    "X_test  = df_x_test\n",
    "y_test  = y_test\n"
   ]
  },
  {
   "cell_type": "markdown",
   "metadata": {},
   "source": [
    "## a) Logistic Regression"
   ]
  },
  {
   "cell_type": "code",
   "execution_count": 54,
   "metadata": {},
   "outputs": [
    {
     "name": "stdout",
     "output_type": "stream",
     "text": [
      "Accuracy (Test Set): 0.65\n",
      "Precision (Test Set): 0.14\n",
      "Recall (Test Set): 0.62\n",
      "F1-Score (Test Set): 0.23\n",
      "roc_auc (test-proba): 0.69\n",
      "roc_auc (train-proba): 0.72\n"
     ]
    }
   ],
   "source": [
    "from sklearn.linear_model import LogisticRegression\n",
    "\n",
    "logreg = LogisticRegression(random_state=42) # inisiasi object dengan nama logreg\n",
    "logreg.fit(X_train, y_train) # fit model regression dari data train\n",
    "eval_classification(logreg)"
   ]
  },
  {
   "cell_type": "markdown",
   "metadata": {},
   "source": [
    "## b) Adaboost Classifier"
   ]
  },
  {
   "cell_type": "code",
   "execution_count": 49,
   "metadata": {},
   "outputs": [
    {
     "name": "stdout",
     "output_type": "stream",
     "text": [
      "Accuracy (Test Set): 0.85\n",
      "Precision (Test Set): 0.17\n",
      "Recall (Test Set): 0.22\n",
      "F1-Score (Test Set): 0.19\n",
      "roc_auc (test-proba): 0.65\n",
      "roc_auc (train-proba): 0.94\n",
      "None\n"
     ]
    }
   ],
   "source": [
    "from sklearn.ensemble import AdaBoostClassifier\n",
    "\n",
    "adaboost = AdaBoostClassifier(random_state=42)\n",
    "adaboost.fit(X_train,y_train)\n",
    "print(eval_classification(adaboost))"
   ]
  },
  {
   "cell_type": "markdown",
   "metadata": {},
   "source": [
    "## c) Gradient Boosting Classifier"
   ]
  },
  {
   "cell_type": "code",
   "execution_count": 50,
   "metadata": {},
   "outputs": [
    {
     "name": "stdout",
     "output_type": "stream",
     "text": [
      "Accuracy (Test Set): 0.91\n",
      "Precision (Test Set): 0.17\n",
      "Recall (Test Set): 0.02\n",
      "F1-Score (Test Set): 0.03\n",
      "roc_auc (test-proba): 0.67\n",
      "roc_auc (train-proba): 0.97\n",
      "None\n"
     ]
    }
   ],
   "source": [
    "from sklearn.ensemble import GradientBoostingClassifier\n",
    "\n",
    "GBC = GradientBoostingClassifier(random_state=42)\n",
    "GBC.fit(X_train,y_train)\n",
    "print(eval_classification(GBC))"
   ]
  },
  {
   "cell_type": "markdown",
   "metadata": {},
   "source": [
    "## d) Knn Classifier"
   ]
  },
  {
   "cell_type": "code",
   "execution_count": 51,
   "metadata": {},
   "outputs": [
    {
     "name": "stdout",
     "output_type": "stream",
     "text": [
      "Accuracy (Test Set): 0.62\n",
      "Precision (Test Set): 0.11\n",
      "Recall (Test Set): 0.49\n",
      "F1-Score (Test Set): 0.17\n",
      "roc_auc (test-proba): 0.57\n",
      "roc_auc (train-proba): 1.00\n",
      "None\n"
     ]
    }
   ],
   "source": [
    "from sklearn.neighbors import KNeighborsClassifier\n",
    "\n",
    "knn = KNeighborsClassifier()\n",
    "knn.fit(X_train,y_train)\n",
    "print(eval_classification(knn))"
   ]
  },
  {
   "cell_type": "markdown",
   "metadata": {},
   "source": [
    "# FEATURE IMPORTANCE"
   ]
  },
  {
   "cell_type": "code",
   "execution_count": 62,
   "metadata": {},
   "outputs": [
    {
     "name": "stdout",
     "output_type": "stream",
     "text": [
      "                             Feature  Importance\n",
      "23       REGION_RATING_CLIENT_W_CITY    0.244746\n",
      "43                   FLAG_DOCUMENT_8    0.278897\n",
      "41                   FLAG_DOCUMENT_6    0.286554\n",
      "31                      EXT_SOURCE_2    0.366040\n",
      "38                   FLAG_DOCUMENT_3    0.461846\n",
      "76         income_type_State servant    0.528998\n",
      "32          OBS_30_CNT_SOCIAL_CIRCLE    0.567921\n",
      "34          OBS_60_CNT_SOCIAL_CIRCLE    0.634436\n",
      "74  income_type_Commercial associate    0.944106\n",
      "6                         AMT_CREDIT    0.964532\n",
      "8                    AMT_GOODS_PRICE    1.143504\n",
      "78               income_type_Working    1.214048\n",
      "75             income_type_Pensioner    2.995721\n",
      "16                    FLAG_EMP_PHONE    3.541631\n",
      "12                     DAYS_EMPLOYED    7.336543\n"
     ]
    },
    {
     "data": {
      "image/png": "[encoded data removed]",
      "text/plain": [
       "<Figure size 1000x600 with 1 Axes>"
      ]
     },
     "metadata": {},
     "output_type": "display_data"
    }
   ],
   "source": [
    "logreg = LogisticRegression(random_state=42) \n",
    "logreg.fit(X_train, y_train) \n",
    "\n",
    "\n",
    "feature_importance = abs(logreg.coef_[0])\n",
    "\n",
    "\n",
    "# Buat DataFrame untuk lebih mudah visualisasi\n",
    "importance_df = pd.DataFrame({'Feature': X_train.columns, 'Importance': feature_importance})\n",
    "\n",
    "# Urutkan DataFrame berdasarkan nilai importance secara menurun\n",
    "importance_df = importance_df.sort_values(by='Importance', ascending=True)\n",
    "importance_df = importance_df.tail(15)\n",
    "\n",
    "# Tampilkan feature importance\n",
    "print(importance_df)\n",
    "\n",
    "# Visualisasikan feature importance\n",
    "plt.figure(figsize=(10, 6))\n",
    "plt.barh(importance_df['Feature'], importance_df['Importance'])\n",
    "plt.xlabel('Importance Score')\n",
    "plt.title('Feature Importance - Logistic Regression')\n",
    "plt.show()"
   ]
  }
 ],
 "metadata": {
  "kernelspec": {
   "display_name": "Python 3",
   "language": "python",
   "name": "python3"
  },
  "language_info": {
   "codemirror_mode": {
    "name": "ipython",
    "version": 3
   },
   "file_extension": ".py",
   "mimetype": "text/x-python",
   "name": "python",
   "nbconvert_exporter": "python",
   "pygments_lexer": "ipython3",
   "version": "3.11.5"
  }
 },
 "nbformat": 4,
 "nbformat_minor": 2
}
